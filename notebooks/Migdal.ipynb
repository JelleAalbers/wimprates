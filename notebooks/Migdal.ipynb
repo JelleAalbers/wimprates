{
 "cells": [
  {
   "cell_type": "code",
   "execution_count": 1,
   "metadata": {
    "ExecuteTime": {
     "end_time": "2022-07-22T19:16:26.733826Z",
     "start_time": "2022-07-22T19:16:24.834775Z"
    },
    "pycharm": {
     "name": "#%%\n"
    }
   },
   "outputs": [],
   "source": [
    "import matplotlib.pyplot as plt\n",
    "import numpy as np\n",
    "import pandas as pd\n",
    "from tqdm import tqdm\n",
    "import numericalunits as nu\n",
    "\n",
    "import wimprates as wr"
   ]
  },
  {
   "cell_type": "markdown",
   "metadata": {
    "pycharm": {
     "name": "#%% md\n"
    }
   },
   "source": [
    "### Convert Xe.dat to nicer format"
   ]
  },
  {
   "cell_type": "code",
   "execution_count": 2,
   "metadata": {
    "ExecuteTime": {
     "end_time": "2022-07-22T19:16:26.776139Z",
     "start_time": "2022-07-22T19:16:26.735821Z"
    },
    "pycharm": {
     "name": "#%%\n"
    }
   },
   "outputs": [
    {
     "data": {
      "text/html": [
       "<div>\n",
       "<style scoped>\n",
       "    .dataframe tbody tr th:only-of-type {\n",
       "        vertical-align: middle;\n",
       "    }\n",
       "\n",
       "    .dataframe tbody tr th {\n",
       "        vertical-align: top;\n",
       "    }\n",
       "\n",
       "    .dataframe thead th {\n",
       "        text-align: right;\n",
       "    }\n",
       "</style>\n",
       "<table border=\"1\" class=\"dataframe\">\n",
       "  <thead>\n",
       "    <tr style=\"text-align: right;\">\n",
       "      <th></th>\n",
       "      <th>1_0</th>\n",
       "      <th>2_0</th>\n",
       "      <th>2_1</th>\n",
       "      <th>3_0</th>\n",
       "      <th>3_1</th>\n",
       "      <th>3_2</th>\n",
       "      <th>4_0</th>\n",
       "      <th>4_1</th>\n",
       "      <th>4_2</th>\n",
       "      <th>5_0</th>\n",
       "      <th>5_1</th>\n",
       "      <th>E</th>\n",
       "    </tr>\n",
       "  </thead>\n",
       "  <tbody>\n",
       "    <tr>\n",
       "      <th>1.000000</th>\n",
       "      <td>1.013107e-14</td>\n",
       "      <td>2.538509e-13</td>\n",
       "      <td>1.417923e-12</td>\n",
       "      <td>3.745613e-12</td>\n",
       "      <td>1.931796e-11</td>\n",
       "      <td>6.875756e-12</td>\n",
       "      <td>4.272023e-11</td>\n",
       "      <td>2.097481e-10</td>\n",
       "      <td>2.115778e-09</td>\n",
       "      <td>4.937655e-10</td>\n",
       "      <td>5.173118e-07</td>\n",
       "      <td>1.000000</td>\n",
       "    </tr>\n",
       "    <tr>\n",
       "      <th>1.045636</th>\n",
       "      <td>1.013389e-14</td>\n",
       "      <td>2.539291e-13</td>\n",
       "      <td>1.424572e-12</td>\n",
       "      <td>3.746781e-12</td>\n",
       "      <td>1.941191e-11</td>\n",
       "      <td>6.950745e-12</td>\n",
       "      <td>4.272690e-11</td>\n",
       "      <td>2.096290e-10</td>\n",
       "      <td>2.124282e-09</td>\n",
       "      <td>4.851036e-10</td>\n",
       "      <td>5.103404e-07</td>\n",
       "      <td>1.045636</td>\n",
       "    </tr>\n",
       "    <tr>\n",
       "      <th>1.093354</th>\n",
       "      <td>1.013681e-14</td>\n",
       "      <td>2.540099e-13</td>\n",
       "      <td>1.431461e-12</td>\n",
       "      <td>3.747978e-12</td>\n",
       "      <td>1.950850e-11</td>\n",
       "      <td>7.033516e-12</td>\n",
       "      <td>4.273357e-11</td>\n",
       "      <td>2.095044e-10</td>\n",
       "      <td>2.133447e-09</td>\n",
       "      <td>4.762062e-10</td>\n",
       "      <td>5.031270e-07</td>\n",
       "      <td>1.093354</td>\n",
       "    </tr>\n",
       "    <tr>\n",
       "      <th>1.143250</th>\n",
       "      <td>1.013985e-14</td>\n",
       "      <td>2.540935e-13</td>\n",
       "      <td>1.438595e-12</td>\n",
       "      <td>3.749203e-12</td>\n",
       "      <td>1.960773e-11</td>\n",
       "      <td>7.124774e-12</td>\n",
       "      <td>4.274019e-11</td>\n",
       "      <td>2.093738e-10</td>\n",
       "      <td>2.143335e-09</td>\n",
       "      <td>4.670743e-10</td>\n",
       "      <td>4.956689e-07</td>\n",
       "      <td>1.143250</td>\n",
       "    </tr>\n",
       "    <tr>\n",
       "      <th>1.195423</th>\n",
       "      <td>1.014299e-14</td>\n",
       "      <td>2.541800e-13</td>\n",
       "      <td>1.445980e-12</td>\n",
       "      <td>3.750456e-12</td>\n",
       "      <td>1.970957e-11</td>\n",
       "      <td>7.225280e-12</td>\n",
       "      <td>4.274673e-11</td>\n",
       "      <td>2.092371e-10</td>\n",
       "      <td>2.154013e-09</td>\n",
       "      <td>4.577099e-10</td>\n",
       "      <td>4.879646e-07</td>\n",
       "      <td>1.195423</td>\n",
       "    </tr>\n",
       "  </tbody>\n",
       "</table>\n",
       "</div>"
      ],
      "text/plain": [
       "                   1_0           2_0           2_1           3_0  \\\n",
       "1.000000  1.013107e-14  2.538509e-13  1.417923e-12  3.745613e-12   \n",
       "1.045636  1.013389e-14  2.539291e-13  1.424572e-12  3.746781e-12   \n",
       "1.093354  1.013681e-14  2.540099e-13  1.431461e-12  3.747978e-12   \n",
       "1.143250  1.013985e-14  2.540935e-13  1.438595e-12  3.749203e-12   \n",
       "1.195423  1.014299e-14  2.541800e-13  1.445980e-12  3.750456e-12   \n",
       "\n",
       "                   3_1           3_2           4_0           4_1  \\\n",
       "1.000000  1.931796e-11  6.875756e-12  4.272023e-11  2.097481e-10   \n",
       "1.045636  1.941191e-11  6.950745e-12  4.272690e-11  2.096290e-10   \n",
       "1.093354  1.950850e-11  7.033516e-12  4.273357e-11  2.095044e-10   \n",
       "1.143250  1.960773e-11  7.124774e-12  4.274019e-11  2.093738e-10   \n",
       "1.195423  1.970957e-11  7.225280e-12  4.274673e-11  2.092371e-10   \n",
       "\n",
       "                   4_2           5_0           5_1         E  \n",
       "1.000000  2.115778e-09  4.937655e-10  5.173118e-07  1.000000  \n",
       "1.045636  2.124282e-09  4.851036e-10  5.103404e-07  1.045636  \n",
       "1.093354  2.133447e-09  4.762062e-10  5.031270e-07  1.093354  \n",
       "1.143250  2.143335e-09  4.670743e-10  4.956689e-07  1.143250  \n",
       "1.195423  2.154013e-09  4.577099e-10  4.879646e-07  1.195423  "
      ]
     },
     "execution_count": 2,
     "metadata": {},
     "output_type": "execute_result"
    }
   ],
   "source": [
    "SOURCE='Xe'\n",
    "df = dict()\n",
    "with open(wr.data_file(f'migdal/{SOURCE}.dat')) as f:\n",
    "    header = False\n",
    "    for i, line in enumerate(f.read().splitlines()):\n",
    "        if 'Principal' in line:\n",
    "            header = True\n",
    "            continue\n",
    "        if 'Energy' in line:\n",
    "            header = False\n",
    "            continue\n",
    "            \n",
    "        if header:\n",
    "            n, l = [int(x) for x in line.split()]\n",
    "        else:\n",
    "            e, rate = [float(x) for x in line.split()]\n",
    "            df.setdefault(e, dict())\n",
    "            df[e]['%d_%d' % (n, l)] = rate\n",
    "                \n",
    "df = pd.DataFrame(df).T\n",
    "df['E'] = df.index\n",
    "\n",
    "df.to_csv('migdal_transition_ps.csv', index=False)\n",
    "df_migdal = df\n",
    "df.head()"
   ]
  },
  {
   "cell_type": "markdown",
   "metadata": {
    "pycharm": {
     "name": "#%% md\n"
    }
   },
   "source": [
    "Rows are energies, columns are (n, l) states. Data is the differential transition probabilities, at the 1 eV/c reference momentum, not divided by 2 pi."
   ]
  },
  {
   "cell_type": "markdown",
   "metadata": {
    "pycharm": {
     "name": "#%% md\n"
    }
   },
   "source": [
    "### Reproduce figure 4"
   ]
  },
  {
   "cell_type": "markdown",
   "metadata": {
    "pycharm": {
     "name": "#%% md\n"
    }
   },
   "source": [
    "To reproduce figure 4 of https://arxiv.org/pdf/1707.07258.pdf, we must\n",
    "  * Convert to the other reference momentum of $m_e * .001 c$\n",
    "  * Divide by 2 pi.\n",
    "  * Convert eV -> keV; multiply energies by 1e3 and divide differential probabilities by 1e3."
   ]
  },
  {
   "cell_type": "code",
   "execution_count": 3,
   "metadata": {
    "ExecuteTime": {
     "end_time": "2022-07-22T19:16:27.594619Z",
     "start_time": "2022-07-22T19:16:26.778591Z"
    },
    "pycharm": {
     "name": "#%%\n"
    }
   },
   "outputs": [
    {
     "data": {
      "text/plain": [
       "Text(0, 0.5, 'diff. p (keV^-1)')"
      ]
     },
     "execution_count": 3,
     "metadata": {},
     "output_type": "execute_result"
    },
    {
     "data": {
      "image/png": "[encoded data removed]",
      "text/plain": [
       "<Figure size 432x288 with 1 Axes>"
      ]
     },
     "metadata": {
      "needs_background": "light"
     },
     "output_type": "display_data"
    }
   ],
   "source": [
    "import wimprates\n",
    "\n",
    "scale = ((nu.me * 1e-3 * nu.c0)/(nu.eV / nu.c0))**2 / (2 * np.pi)\n",
    "df2, _ = wimprates.migdal.read_migdal_transitions(SOURCE)\n",
    "for n in df.keys():\n",
    "    x = df_migdal[n].values.copy()\n",
    "    if not n.endswith('0'):\n",
    "        continue\n",
    "    for c in df2.keys():\n",
    "        if c.startswith(str(n).split('_')[0]) and not c.endswith('0'):\n",
    "            x += df[c]\n",
    "    \n",
    "    plt.plot(df['E'] / 1e3, x * scale * 1e3)\n",
    "#plt.plot(df['E'] / 1e3, df['2_0']**0.5 + df['2_0'])\n",
    "plt.xscale('log')\n",
    "plt.yscale('log')\n",
    "plt.ylim(1e-7, 1e2)\n",
    "plt.xlabel(\"E (keV)\")\n",
    "plt.ylabel(\"diff. p (keV^-1)\")"
   ]
  },
  {
   "cell_type": "markdown",
   "metadata": {
    "pycharm": {
     "name": "#%% md\n"
    }
   },
   "source": [
    "### Compare with spectrum from LUX talk"
   ]
  },
  {
   "cell_type": "markdown",
   "metadata": {
    "pycharm": {
     "name": "#%% md\n"
    }
   },
   "source": [
    "To verify we have the correct spectrum, let's compare to a curve trace from slide 10 of a [recent LUX talk](https://indico.cern.ch/event/699961/contributions/3043408/attachments/1692619/2723656/JLIN_Sub_GeV_DM_Talk_IDM2018_V4.pdf)"
   ]
  },
  {
   "cell_type": "code",
   "execution_count": 4,
   "metadata": {
    "ExecuteTime": {
     "end_time": "2022-07-22T19:16:47.277779Z",
     "start_time": "2022-07-22T19:16:27.599861Z"
    },
    "pycharm": {
     "name": "#%%\n"
    }
   },
   "outputs": [
    {
     "name": "stderr",
     "output_type": "stream",
     "text": [
      "100%|██████████████████████████████████████████████████████████████████████████████████████████████████████████████████████████████████████████████████████████████████████████████████████████████████████| 100/100 [00:19<00:00,  5.09it/s]\n"
     ]
    }
   ],
   "source": [
    "es = np.logspace(np.log10(5e-2), np.log10(2), 100) *  nu.keV\n",
    "rs = wr.rate_migdal(\n",
    "        w=es,\n",
    "        mw=0.5 * nu.GeV/nu.c0**2,\n",
    "        sigma_nucleon=1e-35 * nu.cm**2,\n",
    "        progress_bar=True)"
   ]
  },
  {
   "cell_type": "code",
   "execution_count": 5,
   "metadata": {
    "ExecuteTime": {
     "end_time": "2022-07-22T19:16:47.750262Z",
     "start_time": "2022-07-22T19:16:47.282805Z"
    },
    "pycharm": {
     "name": "#%%\n"
    }
   },
   "outputs": [
    {
     "data": {
      "text/plain": [
       "Text(0, 0.5, 'dr/dE (keV kg day)^-1')"
      ]
     },
     "execution_count": 5,
     "metadata": {},
     "output_type": "execute_result"
    },
    {
     "data": {
      "image/png": "[encoded data removed]",
      "text/plain": [
       "<Figure size 432x288 with 1 Axes>"
      ]
     },
     "metadata": {
      "needs_background": "light"
     },
     "output_type": "display_data"
    }
   ],
   "source": [
    "ref_curve = pd.read_csv('migdal_0.5gev_curvetrace_lux.csv', index_col=False)\n",
    "plt.plot(es / nu.keV, \n",
    "         rs * (nu.kg * nu.day * nu.keV))\n",
    "plt.plot(10**ref_curve['logE'], 10**ref_curve['logR'], color='red', label='Curve trace')\n",
    "plt.xscale('log')\n",
    "plt.yscale('log')\n",
    "plt.xlabel('E (keV)')\n",
    "plt.ylabel('dr/dE (keV kg day)^-1')"
   ]
  },
  {
   "cell_type": "markdown",
   "metadata": {
    "pycharm": {
     "name": "#%% md\n"
    }
   },
   "source": [
    "Looks good! The remaining deviations look like curve tracing artifacts."
   ]
  }
 ],
 "metadata": {
  "kernelspec": {
   "display_name": "Python 3 (ipykernel)",
   "language": "python",
   "name": "python3"
  },
  "language_info": {
   "codemirror_mode": {
    "name": "ipython",
    "version": 3
   },
   "file_extension": ".py",
   "mimetype": "text/x-python",
   "name": "python",
   "nbconvert_exporter": "python",
   "pygments_lexer": "ipython3",
   "version": "3.10.4"
  }
 },
 "nbformat": 4,
 "nbformat_minor": 2
}